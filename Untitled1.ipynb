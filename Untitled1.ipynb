{
  "nbformat": 4,
  "nbformat_minor": 0,
  "metadata": {
    "colab": {
      "provenance": []
    },
    "kernelspec": {
      "name": "python3",
      "display_name": "Python 3"
    },
    "language_info": {
      "name": "python"
    }
  },
  "cells": [
    {
      "cell_type": "markdown",
      "source": [
        "**Personality Prediction System via CV Analysis**"
      ],
      "metadata": {
        "id": "KEYS5lNJxrR5"
      }
    },
    {
      "cell_type": "code",
      "execution_count": 1,
      "metadata": {
        "id": "q7mZMyQvxjky"
      },
      "outputs": [],
      "source": [
        "import nltk\n",
        "from nltk.sentiment.vader import SentimentIntensityAnalyzer"
      ]
    },
    {
      "cell_type": "code",
      "source": [
        "nltk.download('vader_lexicon')\n",
        "sid = SentimentIntensityAnalyzer()"
      ],
      "metadata": {
        "colab": {
          "base_uri": "https://localhost:8080/"
        },
        "id": "DHilE0Ujx1ds",
        "outputId": "83da888e-2d22-4a3b-e987-75f0bb2de4d8"
      },
      "execution_count": 2,
      "outputs": [
        {
          "output_type": "stream",
          "name": "stderr",
          "text": [
            "[nltk_data] Downloading package vader_lexicon to /root/nltk_data...\n"
          ]
        }
      ]
    },
    {
      "cell_type": "code",
      "source": [
        "cv_Bio = \"I am a flexible and experienced insurance administrator with excellent time management skills. I am a good communicator with proven inter personal skills and am used to working in a team whilst also being capable of using own initiative. I am skilled In dealing with problems in a resourceful manner and negotiating to achieve beneficial agreement. I am always enthusiastic to learn and undertake new challenges.\""
      ],
      "metadata": {
        "id": "dmyR4Qnkx1aV"
      },
      "execution_count": 3,
      "outputs": []
    },
    {
      "cell_type": "code",
      "source": [
        "sentiment_scores = sid.polarity_scores(cv_Bio)"
      ],
      "metadata": {
        "id": "9UT-V3mvx1YG"
      },
      "execution_count": 4,
      "outputs": []
    },
    {
      "cell_type": "code",
      "source": [
        "compound_score = sentiment_scores['compound']\n",
        "positive_score = sentiment_scores['pos']\n",
        "neutral_score = sentiment_scores['neu']\n",
        "negative_score = sentiment_scores['neg']"
      ],
      "metadata": {
        "id": "mNRKH5oRx1Vt"
      },
      "execution_count": 5,
      "outputs": []
    },
    {
      "cell_type": "code",
      "source": [
        "print(\"Sentiment Analysis Results:\")\n",
        "print(\"Compound Score: \", compound_score)\n",
        "print(\"Positive Score: \", positive_score)\n",
        "print(\"Neutral Score: \", neutral_score)\n",
        "print(\"Negative Score: \", negative_score)"
      ],
      "metadata": {
        "colab": {
          "base_uri": "https://localhost:8080/"
        },
        "id": "XJVhVoNpyD8-",
        "outputId": "2d4d9a24-95f3-4590-f546-b14aa389ff4e"
      },
      "execution_count": 6,
      "outputs": [
        {
          "output_type": "stream",
          "name": "stdout",
          "text": [
            "Sentiment Analysis Results:\n",
            "Compound Score:  0.9517\n",
            "Positive Score:  0.296\n",
            "Neutral Score:  0.668\n",
            "Negative Score:  0.037\n"
          ]
        }
      ]
    }
  ]
}